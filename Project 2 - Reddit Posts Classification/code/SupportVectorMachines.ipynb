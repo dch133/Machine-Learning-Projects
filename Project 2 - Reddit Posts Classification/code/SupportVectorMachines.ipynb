{
 "cells": [
  {
   "cell_type": "code",
   "execution_count": 49,
   "metadata": {},
   "outputs": [],
   "source": [
    "#Support Vector Machines \n",
    "import pandas as pd\n",
    "import numpy as np\n",
    "#To use SVM \n",
    "from sklearn.svm import LinearSVC\n",
    "\n",
    "data = pd.read_csv('reddit_train.csv')\n",
    "y = data['subreddits'].tolist()"
   ]
  },
  {
   "cell_type": "code",
   "execution_count": 50,
   "metadata": {},
   "outputs": [
    {
     "name": "stdout",
     "output_type": "stream",
     "text": [
      "0.5478285714285714\n"
     ]
    }
   ],
   "source": [
    "from sklearn.feature_extraction.text import TfidfVectorizer\n",
    "import scipy.sparse as sp\n",
    "\n",
    "comments_total = data['comments'].tolist()\n",
    "\n",
    "#Vectorizing\n",
    "\n",
    "vectorizer = TfidfVectorizer(stop_words='english')\n",
    "X = vectorizer.fit_transform(comments_total)\n",
    "\n",
    "svm = LinearSVC(tol=0.01)\n",
    "\n",
    "#Implementing 5 fold cross validation here\n",
    "\n",
    "X_train_1 = X[14000:70000]\n",
    "Y_train_1 = y[14000:70000]\n",
    "X_test_1 = X[0:14000]\n",
    "Y_test_1 = y[0:14000]\n",
    "svm.fit(X_train_1, Y_train_1)\n",
    "score_val1 = svm.score(X_test_1, Y_test_1)\n",
    "\n",
    "X_train_2 = sp.vstack((X[0:14000], X[28000:70000]))\n",
    "Y_train_2 = y[0:14000] + y[28000:70000]\n",
    "X_test_2 = X[14000:28000]\n",
    "Y_test_2 = y[14000:28000]\n",
    "svm.fit(X_train_2, Y_train_2)\n",
    "score_val2 = svm.score(X_test_2, Y_test_2)\n",
    "\n",
    "X_train_3 = sp.vstack((X[0:28000], X[42000:70000]))\n",
    "Y_train_3 = y[0:28000] + y[42000:70000]\n",
    "X_test_3 = X[28000:42000]\n",
    "Y_test_3 = y[28000:42000]\n",
    "svm.fit(X_train_3, Y_train_3)\n",
    "score_val3 = svm.score(X_test_3, Y_test_3)\n",
    "\n",
    "X_train_4 = sp.vstack((X[0:42000], X[56000:70000]))\n",
    "Y_train_4 = y[0:42000] + y[56000:70000]\n",
    "X_test_4 = X[42000:56000]\n",
    "Y_test_4 = y[42000:56000]\n",
    "svm.fit(X_train_4, Y_train_4)\n",
    "score_val4 = svm.score(X_test_4, Y_test_4)\n",
    "\n",
    "X_train_5 = X[0:56000]\n",
    "Y_train_5 = y[0:56000]\n",
    "X_test_5 = X[56000:70000]\n",
    "Y_test_5 = y[56000:70000]\n",
    "svm.fit(X_train_5, Y_train_5)\n",
    "score_val5 = svm.score(X_test_5, Y_test_5)\n",
    "\n",
    "final_score = (score_val1 + score_val2 + score_val3 + score_val4 + score_val5) / 5\n",
    "print (final_score)"
   ]
  },
  {
   "cell_type": "code",
   "execution_count": null,
   "metadata": {},
   "outputs": [],
   "source": []
  }
 ],
 "metadata": {
  "kernelspec": {
   "display_name": "Python 3",
   "language": "python",
   "name": "python3"
  },
  "language_info": {
   "codemirror_mode": {
    "name": "ipython",
    "version": 3
   },
   "file_extension": ".py",
   "mimetype": "text/x-python",
   "name": "python",
   "nbconvert_exporter": "python",
   "pygments_lexer": "ipython3",
   "version": "3.6.8"
  }
 },
 "nbformat": 4,
 "nbformat_minor": 2
}

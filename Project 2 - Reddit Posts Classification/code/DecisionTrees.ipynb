{
 "cells": [
  {
   "cell_type": "code",
   "execution_count": 1,
   "metadata": {},
   "outputs": [],
   "source": [
    "import pandas as pd\n",
    "import numpy as np\n",
    "from sklearn.model_selection import train_test_split\n",
    "from sklearn.feature_extraction.text import TfidfVectorizer\n",
    "from sklearn.preprocessing import LabelEncoder\n",
    "from sklearn import tree\n",
    "\n",
    "data = pd.read_csv('reddit_train.csv')"
   ]
  },
  {
   "cell_type": "code",
   "execution_count": 2,
   "metadata": {},
   "outputs": [],
   "source": [
    "#let's convert are subreddits to numbers\n",
    "enc = LabelEncoder()\n",
    "enc.fit(data['subreddits'])\n",
    "data['subreddits'] = enc.transform(data['subreddits'])"
   ]
  },
  {
   "cell_type": "code",
   "execution_count": 3,
   "metadata": {},
   "outputs": [],
   "source": [
    "#let's vectorize all of our words\n",
    "vectorizer = TfidfVectorizer(stop_words = 'english')\n",
    "X = vectorizer.fit_transform(data['comments'].tolist())\n",
    "y = data['subreddits'].tolist()"
   ]
  },
  {
   "cell_type": "code",
   "execution_count": 4,
   "metadata": {},
   "outputs": [],
   "source": [
    "trainX, testX = train_test_split(X, shuffle=False) #let's split the data 75 percent training, 25 for testing\n",
    "trainy, testy = train_test_split(y, shuffle=False)"
   ]
  },
  {
   "cell_type": "code",
   "execution_count": null,
   "metadata": {},
   "outputs": [],
   "source": [
    "#let's adjust the maximum depth parameter, and graph the accuracies\n",
    "depth = 800\n",
    "depths = []\n",
    "accuracies = []\n",
    "\n",
    "for i in range(0,10):\n",
    "    clf = tree.DecisionTreeClassifier(max_depth = depth)\n",
    "    clf = clf.fit(trainX, trainy)\n",
    "    depths.append(depth)\n",
    "    accuracies.append(clf.score(testX, testy))\n",
    "    depth = depth + 50"
   ]
  }
 ],
 "metadata": {
  "kernelspec": {
   "display_name": "Python 3",
   "language": "python",
   "name": "python3"
  },
  "language_info": {
   "codemirror_mode": {
    "name": "ipython",
    "version": 3
   },
   "file_extension": ".py",
   "mimetype": "text/x-python",
   "name": "python",
   "nbconvert_exporter": "python",
   "pygments_lexer": "ipython3",
   "version": "3.7.3"
  }
 },
 "nbformat": 4,
 "nbformat_minor": 2
}
